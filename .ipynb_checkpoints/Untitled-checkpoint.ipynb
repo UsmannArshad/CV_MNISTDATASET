{
 "cells": [
  {
   "cell_type": "code",
   "execution_count": 86,
   "id": "ee6dbe53",
   "metadata": {},
   "outputs": [],
   "source": [
    "import numpy as np\n",
    "import matplotlib.pylab as plt\n",
    "from tensorflow.keras.datasets import mnist\n",
    "from tensorflow.keras.utils import to_categorical\n",
    "from tensorflow.keras.models import Sequential\n",
    "from tensorflow.keras.layers import Dense"
   ]
  },
  {
   "cell_type": "code",
   "execution_count": 76,
   "id": "6e6e605c",
   "metadata": {},
   "outputs": [],
   "source": [
    "(train_data,train_labels),(test_data,test_labels)=mnist.load_data()"
   ]
  },
  {
   "cell_type": "code",
   "execution_count": 77,
   "id": "84073845",
   "metadata": {},
   "outputs": [
    {
     "name": "stdout",
     "output_type": "stream",
     "text": [
      "(60000, 28, 28)\n",
      "(10000, 28, 28)\n"
     ]
    }
   ],
   "source": [
    "print(train_data.shape)\n",
    "print(test_data.shape)"
   ]
  },
  {
   "cell_type": "code",
   "execution_count": 78,
   "id": "7eeb9e00",
   "metadata": {},
   "outputs": [
    {
     "name": "stdout",
     "output_type": "stream",
     "text": [
      "5\n"
     ]
    },
    {
     "data": {
      "image/png": "[encoded data removed]",
      "text/plain": [
       "<Figure size 432x288 with 1 Axes>"
      ]
     },
     "metadata": {
      "needs_background": "light"
     },
     "output_type": "display_data"
    }
   ],
   "source": [
    "plt.imshow(train_data[0])\n",
    "print(train_labels[0])"
   ]
  },
  {
   "cell_type": "code",
   "execution_count": 79,
   "id": "3ef45ef9",
   "metadata": {},
   "outputs": [
    {
     "name": "stdout",
     "output_type": "stream",
     "text": [
      "Total no of classes 10\n",
      "Output Classes [0 1 2 3 4 5 6 7 8 9]\n"
     ]
    }
   ],
   "source": [
    "classes=np.unique(train_labels)\n",
    "classes_len=len(classes)\n",
    "print(\"Total no of classes\",classes_len)\n",
    "print(\"Output Classes\",classes)"
   ]
  },
  {
   "cell_type": "code",
   "execution_count": 80,
   "id": "a0ca7c24",
   "metadata": {},
   "outputs": [
    {
     "data": {
      "text/plain": [
       "28"
      ]
     },
     "execution_count": 80,
     "metadata": {},
     "output_type": "execute_result"
    }
   ],
   "source": [
    "train_data.shape[1]"
   ]
  },
  {
   "cell_type": "raw",
   "id": "c8d1831a",
   "metadata": {},
   "source": []
  },
  {
   "cell_type": "code",
   "execution_count": 81,
   "id": "d90ee8e2",
   "metadata": {},
   "outputs": [],
   "source": [
    "train_data_flatten=train_data.reshape(train_data.shape[0],784)\n",
    "test_data_flatten=test_data.reshape(test_data.shape[0],784)"
   ]
  },
  {
   "cell_type": "code",
   "execution_count": 82,
   "id": "821dcea1",
   "metadata": {},
   "outputs": [
    {
     "name": "stdout",
     "output_type": "stream",
     "text": [
      "(60000, 784)\n",
      "(784,)\n"
     ]
    }
   ],
   "source": [
    "print(train_data_flatten.shape)\n",
    "print(train_data_flatten[0].shape)"
   ]
  },
  {
   "cell_type": "code",
   "execution_count": 83,
   "id": "5c4cad44",
   "metadata": {},
   "outputs": [],
   "source": [
    "train_data_flatten=train_data_flatten.astype('float32')\n",
    "test_data_flatten=test_data_flatten.astype('float32')"
   ]
  },
  {
   "cell_type": "code",
   "execution_count": 85,
   "id": "1928fd16",
   "metadata": {},
   "outputs": [
    {
     "name": "stdout",
     "output_type": "stream",
     "text": [
      "In categorical [0. 0. 0. 0. 0. 1. 0. 0. 0. 0.]\n",
      "Simple 5\n"
     ]
    }
   ],
   "source": [
    "train_labels_one_hot = to_categorical(train_labels)\n",
    "test_labels_one_hot = to_categorical(test_labels)\n",
    "print(\"In categorical\",train_labels_one_hot[0])\n",
    "print(\"Simple\",train_labels[0])\n"
   ]
  },
  {
   "cell_type": "code",
   "execution_count": 88,
   "id": "55edd521",
   "metadata": {},
   "outputs": [],
   "source": [
    "model=Sequential()\n",
    "model.add(Dense(512, activation='relu', input_shape=(784,)))\n",
    "model.add(Dense(512, activation='relu'))\n",
    "model.add(Dense(classes_len, activation='softmax'))"
   ]
  },
  {
   "cell_type": "code",
   "execution_count": 89,
   "id": "7a1391ec",
   "metadata": {},
   "outputs": [],
   "source": [
    "    model.compile(optimizer='rmsprop', loss='categorical_crossentropy', metrics=['accuracy'])"
   ]
  },
  {
   "cell_type": "code",
   "execution_count": 90,
   "id": "f5c1541e",
   "metadata": {},
   "outputs": [
    {
     "name": "stdout",
     "output_type": "stream",
     "text": [
      "Epoch 1/20\n",
      "235/235 [==============================] - 9s 35ms/step - loss: 7.5935 - accuracy: 0.8702 - val_loss: 1.0836 - val_accuracy: 0.9040\n",
      "Epoch 2/20\n",
      "235/235 [==============================] - 9s 37ms/step - loss: 0.4419 - accuracy: 0.9458 - val_loss: 0.3441 - val_accuracy: 0.9530\n",
      "Epoch 3/20\n",
      "235/235 [==============================] - 8s 33ms/step - loss: 0.2658 - accuracy: 0.9591 - val_loss: 0.3084 - val_accuracy: 0.9570\n",
      "Epoch 4/20\n",
      "235/235 [==============================] - 8s 35ms/step - loss: 0.2204 - accuracy: 0.9653 - val_loss: 0.3179 - val_accuracy: 0.9566\n",
      "Epoch 5/20\n",
      "235/235 [==============================] - 8s 34ms/step - loss: 0.1857 - accuracy: 0.9710 - val_loss: 0.3550 - val_accuracy: 0.9604\n",
      "Epoch 6/20\n",
      "235/235 [==============================] - 8s 34ms/step - loss: 0.1709 - accuracy: 0.9750 - val_loss: 0.4314 - val_accuracy: 0.9541\n",
      "Epoch 7/20\n",
      "235/235 [==============================] - 8s 33ms/step - loss: 0.1589 - accuracy: 0.9780 - val_loss: 0.3909 - val_accuracy: 0.9641\n",
      "Epoch 8/20\n",
      "235/235 [==============================] - 8s 33ms/step - loss: 0.1440 - accuracy: 0.9805 - val_loss: 0.4776 - val_accuracy: 0.9481\n",
      "Epoch 9/20\n",
      "235/235 [==============================] - 8s 34ms/step - loss: 0.1334 - accuracy: 0.9821 - val_loss: 0.4617 - val_accuracy: 0.9688\n",
      "Epoch 10/20\n",
      "235/235 [==============================] - 8s 32ms/step - loss: 0.1376 - accuracy: 0.9833 - val_loss: 0.4467 - val_accuracy: 0.9709\n",
      "Epoch 11/20\n",
      "235/235 [==============================] - 8s 33ms/step - loss: 0.1194 - accuracy: 0.9854 - val_loss: 0.3477 - val_accuracy: 0.9718\n",
      "Epoch 12/20\n",
      "235/235 [==============================] - 8s 35ms/step - loss: 0.1171 - accuracy: 0.9867 - val_loss: 0.4346 - val_accuracy: 0.9702\n",
      "Epoch 13/20\n",
      "235/235 [==============================] - 9s 39ms/step - loss: 0.1130 - accuracy: 0.9871 - val_loss: 0.5833 - val_accuracy: 0.9650\n",
      "Epoch 14/20\n",
      "235/235 [==============================] - 9s 38ms/step - loss: 0.1036 - accuracy: 0.9891 - val_loss: 0.7129 - val_accuracy: 0.9638\n",
      "Epoch 15/20\n",
      "235/235 [==============================] - 10s 41ms/step - loss: 0.1115 - accuracy: 0.9895 - val_loss: 0.6619 - val_accuracy: 0.9670\n",
      "Epoch 16/20\n",
      "235/235 [==============================] - 9s 38ms/step - loss: 0.1141 - accuracy: 0.9896 - val_loss: 0.5037 - val_accuracy: 0.9733\n",
      "Epoch 17/20\n",
      "235/235 [==============================] - 8s 34ms/step - loss: 0.0984 - accuracy: 0.9908 - val_loss: 0.4848 - val_accuracy: 0.9777\n",
      "Epoch 18/20\n",
      "235/235 [==============================] - 8s 35ms/step - loss: 0.1107 - accuracy: 0.9906 - val_loss: 0.6073 - val_accuracy: 0.9759\n",
      "Epoch 19/20\n",
      "235/235 [==============================] - 8s 35ms/step - loss: 0.1102 - accuracy: 0.9915 - val_loss: 0.5898 - val_accuracy: 0.9768\n",
      "Epoch 20/20\n",
      "235/235 [==============================] - 8s 34ms/step - loss: 0.1062 - accuracy: 0.9923 - val_loss: 0.6423 - val_accuracy: 0.9747\n"
     ]
    }
   ],
   "source": [
    "history = model.fit(train_data_flatten, train_labels_one_hot, batch_size=256, epochs=20, verbose=1, \n",
    "                   validation_data=(test_data_flatten, test_labels_one_hot))"
   ]
  },
  {
   "cell_type": "code",
   "execution_count": 99,
   "id": "4092fa9e",
   "metadata": {},
   "outputs": [
    {
     "name": "stdout",
     "output_type": "stream",
     "text": [
      "1/1 [==============================] - 0s 27ms/step\n",
      "Model prediction: [0. 0. 1. 0. 0. 0. 0. 0. 0. 0.]\n"
     ]
    },
    {
     "data": {
      "text/plain": [
       "Text(0.5, 1.0, 'Ground Truth : 2')"
      ]
     },
     "execution_count": 99,
     "metadata": {},
     "output_type": "execute_result"
    },
    {
     "data": {
      "image/png": "[encoded data removed]",
      "text/plain": [
       "<Figure size 432x288 with 1 Axes>"
      ]
     },
     "metadata": {
      "needs_background": "light"
     },
     "output_type": "display_data"
    }
   ],
   "source": [
    "# Predict the most likely class\n",
    "print(\"Model prediction: {}\".format(model.predict(test_data_flatten[[1],:])[0]))\n",
    "\n",
    "# Display the predicted image\n",
    "plt.imshow(test_data[1], cmap='gray')\n",
    "plt.title(\"Ground Truth : {}\".format(test_labels[1]))"
   ]
  },
  {
   "cell_type": "code",
   "execution_count": 115,
   "id": "69954a0c",
   "metadata": {},
   "outputs": [
    {
     "name": "stdout",
     "output_type": "stream",
     "text": [
      "1/1 [==============================] - 0s 24ms/step\n"
     ]
    },
    {
     "data": {
      "text/plain": [
       "1"
      ]
     },
     "execution_count": 115,
     "metadata": {},
     "output_type": "execute_result"
    }
   ],
   "source": [
    "Prediction=model.predict(test_data_flatten[[3]])\n",
    "Prediction.shape[0]"
   ]
  },
  {
   "cell_type": "code",
   "execution_count": null,
   "id": "44d89d11",
   "metadata": {},
   "outputs": [],
   "source": []
  }
 ],
 "metadata": {
  "kernelspec": {
   "display_name": "Python 3 (ipykernel)",
   "language": "python",
   "name": "python3"
  },
  "language_info": {
   "codemirror_mode": {
    "name": "ipython",
    "version": 3
   },
   "file_extension": ".py",
   "mimetype": "text/x-python",
   "name": "python",
   "nbconvert_exporter": "python",
   "pygments_lexer": "ipython3",
   "version": "3.9.7"
  }
 },
 "nbformat": 4,
 "nbformat_minor": 5
}
